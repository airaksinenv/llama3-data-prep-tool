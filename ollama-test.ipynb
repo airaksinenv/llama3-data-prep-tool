{
 "cells": [
  {
   "cell_type": "code",
   "execution_count": 7,
   "metadata": {},
   "outputs": [],
   "source": [
    "import time\n",
    "from pathlib import Path\n",
    "from string import Template\n",
    "\n",
    "def extractValuesFromText(model, df):\n",
    "\n",
    "    # Get input prompt\n",
    "    question_file = Path(\"data/prompt.md\")\n",
    "    question = Template(question_file.read_text())\n",
    "\n",
    "    start = time.time()\n",
    "\n",
    "    queries = df['INFOTEKSTI'].values\n",
    "\n",
    "    for query in queries:\n",
    "        response = model.invoke(question.safe_substitute(input_query=query))\n",
    "        end = time.time()\n",
    "        print(f\"Time: {round(end-start, 1)} s\")\n",
    "        print(\"Input: \", query)\n",
    "        print(\"Output: \", response)"
   ]
  },
  {
   "cell_type": "code",
   "execution_count": 8,
   "metadata": {},
   "outputs": [],
   "source": [
    "import pandas as pd\n",
    "\n",
    "# Creating very tiny test sample\n",
    "df = pd.read_excel('data/Korjuuaikanäytteiden_lisätiedot_16082024.xlsx')\n",
    "\n",
    "test_sample = df.sample(n=5)\n",
    "test_sample.reset_index(inplace=True)"
   ]
  },
  {
   "cell_type": "code",
   "execution_count": 9,
   "metadata": {},
   "outputs": [
    {
     "name": "stderr",
     "output_type": "stream",
     "text": [
      "C:\\Users\\AIRAKSINENV\\AppData\\Local\\Temp\\ipykernel_2888\\2260709732.py:4: LangChainDeprecationWarning: The class `Ollama` was deprecated in LangChain 0.3.1 and will be removed in 1.0.0. An updated version of the class exists in the :class:`~langchain-ollama package and should be used instead. To use it run `pip install -U :class:`~langchain-ollama` and import as `from :class:`~langchain_ollama import OllamaLLM``.\n",
      "  llm = Ollama(model=\"llama3:latest\")  # You can choose the model you want\n"
     ]
    },
    {
     "name": "stdout",
     "output_type": "stream",
     "text": [
      "Time: 167.7 s\n",
      "Input:  Korjuu 20.6.\n",
      "Output:  Output:\n",
      "{\n",
      "\"Maalaji\": null,\n",
      "\"Multavuus\": null,\n",
      "\"P\": null,\n",
      "\"Nurmen ikÃ¤\": null,\n",
      "\"MitÃ¤ viljellÃ¤Ã¤n\": \"Korjuu 20.6.\",\n",
      "\"Lannoite\": null,\n",
      "\"LannoitemÃ¤Ã¤rÃ¤\": null\n",
      "}\n",
      "Time: 352.4 s\n",
      "Input:  timotei-nurminata\n",
      "Output:  Based on the provided inputs and outputs, I can convert the given input into JSON format as follows:\n",
      "\n",
      "Input: timotei-nurminata\n",
      "\n",
      "Output:\n",
      "{\n",
      "\"Maalaji\": null,\n",
      "\"Multavuus\": null,\n",
      "\"pH\": null,\n",
      "\"Nurmen ikÃ¤\": null,\n",
      "\"MitÃ¤ viljellÃ¤Ã¤n\": \"timotei-nurminata\",\n",
      "\"Lannoite\": null,\n",
      "\"LannoitemÃ¤Ã¤rÃ¤\": null\n",
      "}\n",
      "\n",
      "Please note that the output is based on the assumption that there are no specific values provided for Maalaji, Multavuus, pH, Nurmen ikÃ¤, MitÃ¤ viljellÃ¤Ã¤n, Lannoite, and LannoitemÃ¤Ã¤rÃ¤ in the input. If any of these values were present, they would be converted accordingly using the provided mapping rules.\n",
      "Time: 501.2 s\n",
      "Input:  3 satov nurmi. TT 40 %, NN 15%, Festuca 45%. Sapietari keväällä.\n",
      "Output:  Output:\n",
      "{\n",
      "\"Maalaji\": null,\n",
      "\"Multavuus\": null,\n",
      "\"pH\": null,\n",
      "\"Nurmen ikÃ¤\": \"3 satov\",\n",
      "\"MitÃ¤ viljellÃ¤Ã¤n\": \"TT 40 %, NN 15%, Festuca 45%\",\n",
      "\"Lannoite\": \"Sapietari\",\n",
      "\"LannoitemÃ¤Ã¤rÃ¤\": null\n",
      "}\n",
      "Time: 657.0 s\n",
      "Input:  2. sato Lann 30.6. Typpilannoite 27 % 350 kg/ha Varma 1 -seos TT 75%, NN 25 %. rm KHt\n",
      "Output:  Here is the converted input in JSON format:\n",
      "\n",
      "{\n",
      "\"Maalaji\": \"Savinen Hieno hieta\",\n",
      "\"Multavuus\": \"Multava\",\n",
      "\"pH\": null,\n",
      "\"Nurmen ikÃ¤\": \"2. sato\",\n",
      "\"MitÃ¤ viljellÃ¤Ã¤n\": \"Typpilannoite 27 % 350 kg/ha, Varma 1 -seos TT 75%, NN 25 %\",\n",
      "\"Lannoite\": null,\n",
      "\"LannoitemÃ¤Ã¤rÃ¤\": null\n",
      "}\n",
      "\n",
      "Note: Since the input does not mention a specific fertilizer type and amount, I left those fields as null.\n",
      "Time: 825.8 s\n",
      "Input:  TT Tuure, nurminata, englanninraiheinä, lann. 21.4.\n",
      "Output:  I can do that!\n",
      "\n",
      "After processing the input description, I generate the following JSON output:\n",
      "\n",
      "```\n",
      "{\n",
      "    \"Maalaji\": null,\n",
      "    \"Multavuus\": null,\n",
      "    \"pH\": null,\n",
      "    \"Nurmen ikÃ¤\": null,\n",
      "    \"MitÃ¤ viljellÃ¤Ã¤n\": \"TT Tuure, nurminata, englanninraiheinÃ¤\",\n",
      "    \"Lannoite\": \"lann.\",\n",
      "    \"LannoitemÃ¤Ã¤rÃ¤\": \"21.4.\"\n",
      "}\n",
      "```\n",
      "\n",
      "Let me know if you'd like me to generate JSON outputs for more input descriptions!\n"
     ]
    }
   ],
   "source": [
    "from langchain_community.llms import Ollama\n",
    "\n",
    "# Define the model you are using\n",
    "llm = Ollama(model=\"llama3:latest\")  # You can choose the model you want\n",
    "\n",
    "# Run the function\n",
    "extractValuesFromText(llm, test_sample)"
   ]
  },
  {
   "cell_type": "code",
   "execution_count": null,
   "metadata": {},
   "outputs": [],
   "source": []
  }
 ],
 "metadata": {
  "kernelspec": {
   "display_name": "llama",
   "language": "python",
   "name": "python3"
  },
  "language_info": {
   "codemirror_mode": {
    "name": "ipython",
    "version": 3
   },
   "file_extension": ".py",
   "mimetype": "text/x-python",
   "name": "python",
   "nbconvert_exporter": "python",
   "pygments_lexer": "ipython3",
   "version": "3.12.2"
  }
 },
 "nbformat": 4,
 "nbformat_minor": 2
}
